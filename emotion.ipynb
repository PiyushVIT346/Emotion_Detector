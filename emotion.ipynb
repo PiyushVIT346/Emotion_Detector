{
 "cells": [
  {
   "cell_type": "code",
   "execution_count": 3,
   "metadata": {},
   "outputs": [
    {
     "name": "stdout",
     "output_type": "stream",
     "text": [
      "^C\n",
      "Note: you may need to restart the kernel to use updated packages.\n"
     ]
    }
   ],
   "source": [
    "pip install pysentimiento"
   ]
  },
  {
   "cell_type": "code",
   "execution_count": 2,
   "metadata": {},
   "outputs": [
    {
     "ename": "ModuleNotFoundError",
     "evalue": "No module named 'pysentimiento'",
     "output_type": "error",
     "traceback": [
      "\u001b[1;31m---------------------------------------------------------------------------\u001b[0m",
      "\u001b[1;31mModuleNotFoundError\u001b[0m                       Traceback (most recent call last)",
      "Cell \u001b[1;32mIn[2], line 1\u001b[0m\n\u001b[1;32m----> 1\u001b[0m \u001b[38;5;28;01mfrom\u001b[39;00m \u001b[38;5;21;01mpysentimiento\u001b[39;00m \u001b[38;5;28;01mimport\u001b[39;00m create_analyzer\n",
      "\u001b[1;31mModuleNotFoundError\u001b[0m: No module named 'pysentimiento'"
     ]
    }
   ],
   "source": [
    "from pysentimiento import create_analyzer"
   ]
  },
  {
   "cell_type": "code",
   "execution_count": null,
   "metadata": {},
   "outputs": [],
   "source": [
    "emotion = create_analyzer(task='emotion',lang='en')\n",
    "result = emotion.predict(\"get out of my sight\")\n",
    "result.output"
   ]
  },
  {
   "cell_type": "code",
   "execution_count": null,
   "metadata": {},
   "outputs": [],
   "source": [
    "def emotion_detection(text):\n",
    "  emotion = create_analyzer(task='emotion',lang='en')\n",
    "  result = emotion.predict(text)\n",
    "  return result.output\n",
    "emotion_detection(\"I am scared of learning mathematcis\")"
   ]
  },
  {
   "cell_type": "code",
   "execution_count": null,
   "metadata": {},
   "outputs": [],
   "source": [
    "hatespeech = create_analyzer(task='hate_speech', lang='en')\n",
    "result = hatespeech.predict(\"I hate eating apples. that's why i don't want to sit with appple seller\")\n",
    "# next(iter(result.probas,None))\n",
    "# next(iter(result.probas.items()),None)\n",
    "result.output"
   ]
  },
  {
   "cell_type": "code",
   "execution_count": null,
   "metadata": {},
   "outputs": [],
   "source": [
    "def hatespeech_detection(text):\n",
    "  hatespeech = create_analyzer(task='hate_speech', lang='en')\n",
    "  result = hatespeech.predict(text)\n",
    "  return next(iter(result.probas.items()),None)\n",
    "hatespeech_detection(\"I hate eating apples. that's why i don't want to sit with appple seller\")"
   ]
  },
  {
   "cell_type": "code",
   "execution_count": null,
   "metadata": {},
   "outputs": [],
   "source": [
    "text = \"\"\"I woke up this morning feeling incredibly happy and grateful for the beautiful weather outside.\n",
    " The sun was shining, birds were singing, and there was a gentle breeze in the air. It felt like the\n",
    " perfect day to go for a long walk in the park.\"\"\""
   ]
  },
  {
   "cell_type": "code",
   "execution_count": null,
   "metadata": {},
   "outputs": [],
   "source": [
    "emo = emotion_detection(text)\n",
    "hate = hatespeech_detection(text)\n",
    "\n",
    "print(\"Emotion :\", emo)\n",
    "print(\"Speech :\", hate)"
   ]
  },
  {
   "cell_type": "code",
   "execution_count": null,
   "metadata": {},
   "outputs": [],
   "source": [
    "# Example 2:\n",
    "text = \"\"\"In the evening, I decided to unwind by watching a comedy show. The hilarious jokes and witty banter lifted my spirits, and I found myself laughing uncontrollably.\n",
    " Laughter truly is the best medicine, and it was the perfect way to end the day on a positive note.\n",
    "\"\"\""
   ]
  },
  {
   "cell_type": "code",
   "execution_count": null,
   "metadata": {},
   "outputs": [],
   "source": [
    "emo = emotion_detection(text)\n",
    "hate = hatespeech_detection(text)\n",
    "\n",
    "print(\"Emotion :\", emo)\n",
    "print(\"Speech :\", hate)"
   ]
  }
 ],
 "metadata": {
  "kernelspec": {
   "display_name": "Python 3",
   "language": "python",
   "name": "python3"
  },
  "language_info": {
   "codemirror_mode": {
    "name": "ipython",
    "version": 3
   },
   "file_extension": ".py",
   "mimetype": "text/x-python",
   "name": "python",
   "nbconvert_exporter": "python",
   "pygments_lexer": "ipython3",
   "version": "3.11.7"
  }
 },
 "nbformat": 4,
 "nbformat_minor": 2
}
